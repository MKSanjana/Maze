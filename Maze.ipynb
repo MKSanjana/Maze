{
  "nbformat": 4,
  "nbformat_minor": 0,
  "metadata": {
    "colab": {
      "name": "Maze.ipynb",
      "provenance": []
    },
    "kernelspec": {
      "name": "python3",
      "display_name": "Python 3"
    },
    "language_info": {
      "name": "python"
    }
  },
  "cells": [
    {
      "cell_type": "code",
      "source": [
        "from collections import deque\n",
        "ROW = 9\n",
        "COL = 10\n",
        "\n",
        "class Point:\n",
        "\tdef __init__(self,x: int, y: int):\n",
        "\t\tself.x = x\n",
        "\t\tself.y = y\n",
        "\n",
        "class queueNode:\n",
        "\tdef __init__(self,pt: Point, dist: int):\n",
        "\t\tself.pt = pt \n",
        "\t\tself.dist = dist \n",
        "\n",
        "def isValid(row: int, col: int):\n",
        "\treturn (row >= 0) and (row < ROW) and (col >= 0) and (col < COL)\n",
        "\n",
        "rowNum = [-1, 0, 0, 1]\n",
        "colNum = [0, -1, 1, 0]\n",
        "\n",
        "def BFS(mat, src: Point, dest: Point):\n",
        "\t\n",
        "\tif mat[src.x][src.y]!=1 or mat[dest.x][dest.y]!=1:\n",
        "\t\treturn -1\n",
        "\t\n",
        "\tvisited = [[False for i in range(COL)]\n",
        "\t\t\t\t\tfor j in range(ROW)]\n",
        "\t\n",
        "\t# Mark the source cell as visited\n",
        "\tvisited[src.x][src.y] = True\n",
        "\t\n",
        "\t# Create a queue for BFS\n",
        "\tq = deque()\n",
        "\t\n",
        "\t# Distance of source cell is 0\n",
        "\ts = queueNode(src,0)\n",
        "\tq.append(s) # Enqueue source cell\n",
        "\t\n",
        "\t# Do a BFS starting from source cell\n",
        "\twhile q:\n",
        "\n",
        "\t\tcurr = q.popleft() \n",
        "\t\t\n",
        "\t\tpt = curr.pt\n",
        "\t\tif pt.x == dest.x and pt.y == dest.y:\n",
        "\t\t\treturn curr.dist\n",
        "\t\t\n",
        "\t\tfor i in range(4):\n",
        "\t\t\trow = pt.x + rowNum[i]\n",
        "\t\t\tcol = pt.y + colNum[i]\n",
        "\t\t\t\n",
        "\t\t\n",
        "\t\t\tif (isValid(row,col) and\n",
        "\t\t\tmat[row][col] == 1 and\n",
        "\t\t\t\tnot visited[row][col]):\n",
        "\t\t\t\tvisited[row][col] = True\n",
        "\t\t\t\tAdjcell = queueNode(Point(row,col),\n",
        "\t\t\t\t\t\t\t\t\tcurr.dist+1)\n",
        "\t\t\t\tq.append(Adjcell)\n",
        "\t\n",
        "\t# Return -1 if destination cannot be reached\n",
        "\treturn -1\n",
        "\n",
        "# Driver code\n",
        "def main():\n",
        "\tmat = [[ 1, 0, 1, 1, 1, 1, 0, 1, 1, 1 ],\n",
        "\t\t[ 1, 0, 1, 0, 1, 1, 1, 0, 1, 1 ],\n",
        "\t\t[ 1, 1, 1, 0, 1, 1, 0, 1, 0, 1 ],\n",
        "\t\t[ 0, 0, 0, 0, 1, 0, 0, 0, 0, 1 ],\n",
        "\t\t[ 1, 1, 1, 0, 1, 1, 1, 0, 1, 0 ],\n",
        "\t\t[ 1, 0, 1, 1, 1, 1, 0, 1, 0, 0 ],\n",
        "\t\t[ 1, 0, 0, 0, 0, 0, 0, 0, 0, 1 ],\n",
        "\t\t[ 1, 0, 1, 1, 1, 1, 0, 1, 1, 1 ],\n",
        "\t\t[ 1, 1, 0, 0, 0, 0, 1, 0, 0, 1 ]]\n",
        "\tsource = Point(0,0)\n",
        "\tdest = Point(4,6)\n",
        "\t\n",
        "\tdist = BFS(mat,source,dest)\n",
        "\t\n",
        "\tif dist!=-1:\n",
        "\t\tprint(\"Shortest Path is\",dist)\n",
        "\telse:\n",
        "\t\tprint(\"Shortest Path doesn't exist\")\n",
        "main()\n",
        "\n"
      ],
      "metadata": {
        "colab": {
          "base_uri": "https://localhost:8080/"
        },
        "id": "nY5nONmeKi8S",
        "outputId": "faa68975-db70-4738-fc38-9c3fa3f505b2"
      },
      "execution_count": null,
      "outputs": [
        {
          "output_type": "stream",
          "name": "stdout",
          "text": [
            "Shortest Path is 14\n"
          ]
        }
      ]
    }
  ]
}